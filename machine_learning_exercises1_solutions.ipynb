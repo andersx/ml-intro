{
  "nbformat": 4,
  "nbformat_minor": 0,
  "metadata": {
    "colab": {
      "name": "machine_learning_exercises1.ipynb",
      "provenance": [],
      "collapsed_sections": []
    },
    "kernelspec": {
      "name": "python3",
      "display_name": "Python 3"
    }
  },
  "cells": [
    {
      "cell_type": "markdown",
      "metadata": {
        "id": "ko7Hm5QWCWqX",
        "colab_type": "text"
      },
      "source": [
        "# Exercises for Machine Learning with Python, Lecture 1: *Linear Least Squares Regression*\n",
        "\n"
      ]
    },
    {
      "cell_type": "markdown",
      "metadata": {
        "id": "AXY2tywnCawC",
        "colab_type": "text"
      },
      "source": [
        "## Before you begin the exercises:\n",
        "\n"
      ]
    },
    {
      "cell_type": "markdown",
      "metadata": {
        "id": "5WFgpPP6mrpa",
        "colab_type": "text"
      },
      "source": [
        "The datafiles are text files stored here (also try and download them to your own computer, open and see what they contain):\n",
        "\n",
        "Features: https://www.dropbox.com/s/pf2sfiy9l86xhww/boston_features.txt\n",
        "\n",
        "Prices: https://www.dropbox.com/s/j7flze0oe86pr6o/boston_prices.txt\n",
        "\n",
        "*   Start by downloading the dataset:"
      ]
    },
    {
      "cell_type": "code",
      "metadata": {
        "id": "nFtEVyvxmrwJ",
        "colab_type": "code",
        "colab": {
          "base_uri": "https://localhost:8080/",
          "height": 772
        },
        "outputId": "7ff385cf-4342-4108-cc09-e7cd74682dc7"
      },
      "source": [
        "# Download the features and target (the prices) to Google Colab using !wget\n",
        "!wget -O boston_features.txt https://www.dropbox.com/s/pf2sfiy9l86xhww/boston_features.txt\n",
        "!wget -O boston_prices.txt https://www.dropbox.com/s/j7flze0oe86pr6o/boston_prices.txt"
      ],
      "execution_count": 21,
      "outputs": [
        {
          "output_type": "stream",
          "text": [
            "--2020-05-13 15:34:07--  https://www.dropbox.com/s/pf2sfiy9l86xhww/boston_features.txt\n",
            "Resolving www.dropbox.com (www.dropbox.com)... 162.125.82.1, 2620:100:6032:1::a27d:5201\n",
            "Connecting to www.dropbox.com (www.dropbox.com)|162.125.82.1|:443... connected.\n",
            "HTTP request sent, awaiting response... 301 Moved Permanently\n",
            "Location: /s/raw/pf2sfiy9l86xhww/boston_features.txt [following]\n",
            "--2020-05-13 15:34:08--  https://www.dropbox.com/s/raw/pf2sfiy9l86xhww/boston_features.txt\n",
            "Reusing existing connection to www.dropbox.com:443.\n",
            "HTTP request sent, awaiting response... 302 Found\n",
            "Location: https://ucfcce27fc0a2ecd38bd118e07c6.dl.dropboxusercontent.com/cd/0/inline/A3o5VSYBFQREn6bIHoMp8eCHzv-dlsHUxOhSzn0e-mGjJGXBIOBRccuEbsU007U_y6mY9lRWkNQOcGfZ-DeO-7KzLELA6md-IqkcjPs3uhHf7EpGEcnaMMu7NAhKw9gb2qs/file# [following]\n",
            "--2020-05-13 15:34:08--  https://ucfcce27fc0a2ecd38bd118e07c6.dl.dropboxusercontent.com/cd/0/inline/A3o5VSYBFQREn6bIHoMp8eCHzv-dlsHUxOhSzn0e-mGjJGXBIOBRccuEbsU007U_y6mY9lRWkNQOcGfZ-DeO-7KzLELA6md-IqkcjPs3uhHf7EpGEcnaMMu7NAhKw9gb2qs/file\n",
            "Resolving ucfcce27fc0a2ecd38bd118e07c6.dl.dropboxusercontent.com (ucfcce27fc0a2ecd38bd118e07c6.dl.dropboxusercontent.com)... 162.125.82.6, 2620:100:6032:6::a27d:5206\n",
            "Connecting to ucfcce27fc0a2ecd38bd118e07c6.dl.dropboxusercontent.com (ucfcce27fc0a2ecd38bd118e07c6.dl.dropboxusercontent.com)|162.125.82.6|:443... connected.\n",
            "HTTP request sent, awaiting response... 200 OK\n",
            "Length: 164450 (161K) [text/plain]\n",
            "Saving to: ‘boston_features.txt’\n",
            "\n",
            "\rboston_features.txt   0%[                    ]       0  --.-KB/s               \rboston_features.txt 100%[===================>] 160.60K  --.-KB/s    in 0.05s   \n",
            "\n",
            "2020-05-13 15:34:09 (3.43 MB/s) - ‘boston_features.txt’ saved [164450/164450]\n",
            "\n",
            "--2020-05-13 15:34:11--  https://www.dropbox.com/s/j7flze0oe86pr6o/boston_prices.txt\n",
            "Resolving www.dropbox.com (www.dropbox.com)... 162.125.82.1, 2620:100:6032:1::a27d:5201\n",
            "Connecting to www.dropbox.com (www.dropbox.com)|162.125.82.1|:443... connected.\n",
            "HTTP request sent, awaiting response... 301 Moved Permanently\n",
            "Location: /s/raw/j7flze0oe86pr6o/boston_prices.txt [following]\n",
            "--2020-05-13 15:34:11--  https://www.dropbox.com/s/raw/j7flze0oe86pr6o/boston_prices.txt\n",
            "Reusing existing connection to www.dropbox.com:443.\n",
            "HTTP request sent, awaiting response... 302 Found\n",
            "Location: https://uc63c23951c29d2f4243330fd490.dl.dropboxusercontent.com/cd/0/inline/A3oMs8OaL6sBmtAZvWsZc5w7zgsOycuEFjBIN9ybJ7O0yGEQNTh2zDhrAo0bL1c1Y9SbS0o7vU4Fx8cVzgGAkkMNB_2ESIui9_YaJ6gaUNUiaScThF_-p8wGvq76PNYqpCU/file# [following]\n",
            "--2020-05-13 15:34:11--  https://uc63c23951c29d2f4243330fd490.dl.dropboxusercontent.com/cd/0/inline/A3oMs8OaL6sBmtAZvWsZc5w7zgsOycuEFjBIN9ybJ7O0yGEQNTh2zDhrAo0bL1c1Y9SbS0o7vU4Fx8cVzgGAkkMNB_2ESIui9_YaJ6gaUNUiaScThF_-p8wGvq76PNYqpCU/file\n",
            "Resolving uc63c23951c29d2f4243330fd490.dl.dropboxusercontent.com (uc63c23951c29d2f4243330fd490.dl.dropboxusercontent.com)... 162.125.82.6, 2620:100:6032:6::a27d:5206\n",
            "Connecting to uc63c23951c29d2f4243330fd490.dl.dropboxusercontent.com (uc63c23951c29d2f4243330fd490.dl.dropboxusercontent.com)|162.125.82.6|:443... connected.\n",
            "HTTP request sent, awaiting response... 200 OK\n",
            "Length: 12650 (12K) [text/plain]\n",
            "Saving to: ‘boston_prices.txt’\n",
            "\n",
            "boston_prices.txt   100%[===================>]  12.35K  --.-KB/s    in 0s      \n",
            "\n",
            "2020-05-13 15:34:12 (105 MB/s) - ‘boston_prices.txt’ saved [12650/12650]\n",
            "\n"
          ],
          "name": "stdout"
        }
      ]
    },
    {
      "cell_type": "markdown",
      "metadata": {
        "id": "oww6BHzPnN2K",
        "colab_type": "text"
      },
      "source": [
        "This time we will not be using a Pandas DataFrames, because we will code the Linear Least Squares Regression ourselves using Numpy.\n",
        "\n",
        "*   Now, load the txt files into NumPy arrays:"
      ]
    },
    {
      "cell_type": "code",
      "metadata": {
        "id": "q8Eg67JbnMXs",
        "colab_type": "code",
        "colab": {}
      },
      "source": [
        "import numpy as np\n",
        "\n",
        "features = np.loadtxt(\"boston_features.txt\")\n",
        "prices = np.loadtxt(\"boston_prices.txt\")"
      ],
      "execution_count": 0,
      "outputs": []
    },
    {
      "cell_type": "markdown",
      "metadata": {
        "id": "W-A0JFizohhK",
        "colab_type": "text"
      },
      "source": [
        "As you can see below, the features is a matrix contatining 506 rows (one for each house), each with 13 entries (one for each feature). Additionally, there are 506 prices (again, one for each house)."
      ]
    },
    {
      "cell_type": "code",
      "metadata": {
        "id": "1Ksqhh8DodXx",
        "colab_type": "code",
        "colab": {
          "base_uri": "https://localhost:8080/",
          "height": 54
        },
        "outputId": "bc6cdc49-7352-4f4b-fe9e-15adc9d32ed8"
      },
      "source": [
        "print(features.shape)\n",
        "print(prices.shape)"
      ],
      "execution_count": 23,
      "outputs": [
        {
          "output_type": "stream",
          "text": [
            "(506, 13)\n",
            "(506,)\n"
          ],
          "name": "stdout"
        }
      ]
    },
    {
      "cell_type": "code",
      "metadata": {
        "id": "8uLLxkixpUWP",
        "colab_type": "code",
        "colab": {
          "base_uri": "https://localhost:8080/",
          "height": 935
        },
        "outputId": "9deb02df-cfd6-477b-e5e5-6c4dec922036"
      },
      "source": [
        "print(features)\n",
        "print(prices)"
      ],
      "execution_count": 24,
      "outputs": [
        {
          "output_type": "stream",
          "text": [
            "[[1.58760e-01 0.00000e+00 1.08100e+01 ... 1.92000e+01 3.76940e+02\n",
            "  9.88000e+00]\n",
            " [4.54192e+00 0.00000e+00 1.81000e+01 ... 2.02000e+01 3.74560e+02\n",
            "  7.79000e+00]\n",
            " [7.52601e+00 0.00000e+00 1.81000e+01 ... 2.02000e+01 3.04210e+02\n",
            "  1.93100e+01]\n",
            " ...\n",
            " [2.68380e-01 0.00000e+00 9.69000e+00 ... 1.92000e+01 3.96900e+02\n",
            "  1.41000e+01]\n",
            " [1.09590e-01 0.00000e+00 1.19300e+01 ... 2.10000e+01 3.93450e+02\n",
            "  6.48000e+00]\n",
            " [1.54450e-01 2.50000e+01 5.13000e+00 ... 1.97000e+01 3.90680e+02\n",
            "  6.86000e+00]]\n",
            "[21.7 25.  13.  23.6 21.7 35.2 19.3 14.1 18.9 13.6 19.6 42.8 25.   9.7\n",
            " 20.7 19.3 37.6 13.1 21.7 16.5 29.4 18.3 15.6 48.3 36.2 21.4 15.2 18.2\n",
            " 17.8 19.6 25.  18.  32.4 50.  29.8 18.6 23.9 10.5 19.3 11.9  6.3 14.4\n",
            " 23.8 29.  22.   8.5 24.5 36.  43.5 16.5 20.4 22.5 23.1 37.  20.3  7.4\n",
            " 11.7 24.5 23.  25.  28.  21.4 20.3 13.8 20.  33.8 13.5 18.8 21.  23.2\n",
            " 26.4 20.1 14.6 17.1 17.8 27.5 15.  18.9 23.  20.5 19.1 12.  19.2 19.1\n",
            " 16.2 27.1 12.7 22.  19.3  7.2 21.7 17.4 20.2 35.1 50.  17.8 31.6 16.1\n",
            " 15.  21.9 13.9 19.4 23.1 24.3 22.8 10.4 13.4 25.2 15.6 21.7 20.6 20.1\n",
            " 18.7 12.7 11.7 19.8 24.7 23.7 20.9 46.  30.3 23.6 27.5 50.  10.2 22.\n",
            " 23.1 24.3 17.9 18.9 18.5 21.2 22.7 43.8 18.5 21.2 22.9 50.   5.  21.8\n",
            " 23.9 23.1 18.5 21.5 17.2 28.6 15.1 24.1 21.   8.7 21.7 31.5 14.4 21.7\n",
            " 10.4 19.5 15.7 16.4 20.9 19.6 17.8 17.3 50.  12.8 25.  30.1 10.8 15.6\n",
            " 14.6 19.4 28.7 23.2 18.7 23.5  7.2 22.6 10.9 23.9  9.5 16.1 24.3 23.7\n",
            " 21.1 21.2 21.9 22.  28.1 35.4  8.1 14.1 12.7 15.4 23.2 12.1 34.7  7.\n",
            " 24.  17.6 13.4 29.9 28.4 20.6 50.  44.  13.4 21.5 48.5 32.2 26.5 21.2\n",
            " 22.6 17.7 13.2 12.3 46.7 41.3 11.8 21.8 23.1 19.4 18.8 32.  17.8 22.6\n",
            " 43.1 22.5 17.2 16.6 14.8 27.1 22.  25.3 13.1 19.4 21.4 13.1  8.3 19.6\n",
            " 19.8 29.1 33.4 24.  37.2 22.8 38.7 29.1 19.7 24.4 23.2 22.5  8.5 34.9\n",
            " 15.  27.5 20.4 23.3 29.6  8.8 33.3 10.5 20.1 19.5 31.6 13.3 16.1 15.6\n",
            " 18.1 14.3 34.6 22.2 13.3 17.  15.6 33.1 23.8 22.7 25.1 35.4 13.1 22.6\n",
            " 23.7 12.5 20.  20.3 19.1 20.4 14.9 20.3 31.7 17.1 32.7 24.4 17.5 24.8\n",
            " 23.1 11.5 24.2 18.9  8.4 22.9 14.9 33.2 31.5 13.5 50.  19.  42.3 14.5\n",
            " 44.8 26.7 22.4 17.5 13.4 28.7 12.6 19.8 21.4 19.3 24.1 21.  23.3 23.8\n",
            " 21.1 50.  16.3 36.4 30.7 24.4 23.  23.1 16.7 14.5 26.4 36.2 20.6  8.4\n",
            " 16.2 20.1 10.2 17.1 19.4 33.4 32.  19.6 27.5 18.7 21.2 23.9 22.2 34.9\n",
            " 18.6 18.2 39.8 26.6 23.3 15.4 50.  11.  20.5 19.4 18.4 37.3 21.6 20.\n",
            " 11.3 50.  26.6 27.  18.4 11.9 33.  30.5 17.5 19.5 31.1 26.2 14.3 21.4\n",
            " 24.8 13.9 15.2 14.9 25.  13.8 10.2 33.1 48.8 20.6 17.2 11.8 17.4  5.\n",
            " 21.9 36.5 13.3 50.  23.7  8.3 24.8 23.9 25.  27.9 32.9 50.  19.1  8.8\n",
            " 50.  33.2 29.  50.  41.7 28.4 24.6 20.5 25.  22.9 22.2 17.4 20.8 16.8\n",
            " 19.9 21.6 19.7 22.3 24.1 24.7 19.2  7.2 50.  34.9 22.8 13.8 22.6 20.7\n",
            " 15.2 10.9 14.1 20.  20.1 19.   9.6 31.2 28.7 16.8 28.5 18.5 19.5 36.1\n",
            " 14.2 22.8 30.8  7.5 16.7 24.5 20.8 22.9  5.6 22.  45.4 20.4 19.9 22.2\n",
            " 16.   7.  28.2 24.8 19.9 23.4 22.1 23.8 13.6 22.2 26.6 29.6 23.4 24.4\n",
            " 50.  32.5 18.4 13.8 23.  30.1 31.  24.7 20.6 18.2 37.9 20.8 20.  20.2\n",
            " 15.3 14.5 14.  29.8 13.8 30.1 22.4 27.9 20.6 16.6 22.3 19.9 24.6 18.3\n",
            " 22.  23.3]\n"
          ],
          "name": "stdout"
        }
      ]
    },
    {
      "cell_type": "markdown",
      "metadata": {
        "id": "rUeXGXjbGjnG",
        "colab_type": "text"
      },
      "source": [
        "Beside the housing prices, the dataset contains and information about location, etc (see below), and the prices are units of in USD $1000.\n",
        "\n",
        "```\n",
        "Index   Description\n",
        "-----------------------------------------------------------------------\n",
        "   0    per capita crime rate by town\n",
        "   1    proportion of residential land zoned for lots over 25,000 sq.ft.\n",
        "   2    proportion of non-retail business acres per town\n",
        "   3    Charles River dummy variable (= 1 if tract bounds river; 0 otherwise)\n",
        "   4    nitric oxides concentration (parts per 10 million)\n",
        "   5    average number of rooms per dwelling\n",
        "   6    proportion of owner-occupied units built prior to 1940\n",
        "   7    weighted distances to five Boston employment centres\n",
        "   8    index of accessibility to radial highways\n",
        "   9    full-value property-tax rate per $10,000\n",
        "  10    pupil-teacher ratio by town\n",
        "  11    1000(Bk - 0.63)^2 where Bk is the proportion of African Americans by town\n",
        "  12    % lower status of the population\n",
        "```\n"
      ]
    },
    {
      "cell_type": "markdown",
      "metadata": {
        "id": "gKW4IOjjpgpd",
        "colab_type": "text"
      },
      "source": [
        "## Exercise 1.1: Exploratory Data Analysis"
      ]
    },
    {
      "cell_type": "markdown",
      "metadata": {
        "id": "RLxdW_pPpg5U",
        "colab_type": "text"
      },
      "source": [
        "Before we begin the regression, lets have a look at the data. As in the lecture, we will plot the correlation between our features using Seaborn.\n",
        "\n",
        "Since we loaded in the data as a Numpy Array, we have to create a Pandas DataFrame for Seaborn. This can be done with the code below:"
      ]
    },
    {
      "cell_type": "code",
      "metadata": {
        "id": "-wyVjM5UqK5y",
        "colab_type": "code",
        "colab": {
          "base_uri": "https://localhost:8080/",
          "height": 35
        },
        "outputId": "a27d3b0e-a7aa-467a-9aee-911c2190762f"
      },
      "source": [
        "#Pandas DataFrames\n",
        "import pandas as pd\n",
        "\n",
        "# Make a Pandas dataframe from the features\n",
        "df = pd.DataFrame(features[:,:5]) \n",
        "\n",
        "# NOTE: ONLY TAKES THE FIRST 5 COLUMNS/FEATURES\n",
        "# features[:,:5] is Numpy slice notation for \"take all rows, and first five colums\"\n",
        "\n",
        "# Print the type of the dataframe, just to make sure we coverted correctly\n",
        "print(type(df))"
      ],
      "execution_count": 25,
      "outputs": [
        {
          "output_type": "stream",
          "text": [
            "<class 'pandas.core.frame.DataFrame'>\n"
          ],
          "name": "stdout"
        }
      ]
    },
    {
      "cell_type": "markdown",
      "metadata": {
        "id": "CrOYprZ5qLOe",
        "colab_type": "text"
      },
      "source": [
        "Note that since there are 13 features, the correlation plot would contain 169 plots. This would be quite slow in Google Colab. For speed reasons, we only loaded the first 5 featues into the pandas dataframe for plotting.\n",
        "\n"
      ]
    },
    {
      "cell_type": "markdown",
      "metadata": {
        "id": "1Z-a3Etntajv",
        "colab_type": "text"
      },
      "source": [
        "### Question 1.1.1: "
      ]
    },
    {
      "cell_type": "markdown",
      "metadata": {
        "id": "dOPcP5g_tawa",
        "colab_type": "text"
      },
      "source": [
        "*   Just like in the lecture, make an `sns.pairplot()` using Seaborn of the dataframe we just made.\n",
        "*   (Optional) If you want, change the style of the plot as shown during the lecture. You can see some customization options in the documentation: https://seaborn.pydata.org/generated/seaborn.pairplot.html"
      ]
    },
    {
      "cell_type": "code",
      "metadata": {
        "id": "O3-7w7byp5AH",
        "colab_type": "code",
        "colab": {
          "base_uri": "https://localhost:8080/",
          "height": 945
        },
        "outputId": "033b11bb-b039-4802-dce9-7eadb39e9b71"
      },
      "source": [
        "import seaborn as sns\n",
        "import matplotlib.pyplot as plt\n",
        "\n",
        "# Plot the pairplot of the Pandas DataFrame\n",
        "sns.pairplot(df)"
      ],
      "execution_count": 26,
      "outputs": [
        {
          "output_type": "execute_result",
          "data": {
            "text/plain": [
              "<seaborn.axisgrid.PairGrid at 0x7f3d95226828>"
            ]
          },
          "metadata": {
            "tags": []
          },
          "execution_count": 26
        },
        {
          "output_type": "display_data",
          "data": {
            "image/png": "[encoded data removed]",
            "text/plain": [
              "<Figure size 900x900 with 30 Axes>"
            ]
          },
          "metadata": {
            "tags": [],
            "needs_background": "light"
          }
        }
      ]
    },
    {
      "cell_type": "markdown",
      "metadata": {
        "id": "nLy2rXKUtwKo",
        "colab_type": "text"
      },
      "source": [
        "### Question 1.1.2:"
      ]
    },
    {
      "cell_type": "markdown",
      "metadata": {
        "id": "gOuaxzWsuEzc",
        "colab_type": "text"
      },
      "source": [
        "One thing you might note from the pair-correlation plot is that some of the features look odd. However, these features still work well for linear regression. \n",
        "\n",
        "*    Can you explain why the correlations between Feature 3 and everything else look odd?"
      ]
    },
    {
      "cell_type": "markdown",
      "metadata": {
        "id": "7BUPWp-WuT13",
        "colab_type": "text"
      },
      "source": [
        "**Give your answer:** "
      ]
    },
    {
      "cell_type": "markdown",
      "metadata": {
        "id": "G_cWc1o-u-E7",
        "colab_type": "text"
      },
      "source": [
        "## Exercise 1.2: Training and Test sets"
      ]
    },
    {
      "cell_type": "markdown",
      "metadata": {
        "id": "mRjjCAMmvFdZ",
        "colab_type": "text"
      },
      "source": [
        "In order to train and evaluate our linear regression model, we first have to divide the dataset into two parts: A training set and a test set.\n"
      ]
    },
    {
      "cell_type": "markdown",
      "metadata": {
        "id": "742iy28bzVIN",
        "colab_type": "text"
      },
      "source": [
        "### Question 1.2.1:\n",
        "A common practice is to have the training set be 70% of the full set and test set 30%.\n",
        "\n",
        "There are 506 houses in our dataset, so divide your data into 354 in the training set and 152 in the test set.\n",
        "\n",
        "You can use Numpy's slice notation for this, as introducted in the first lectures. For example, to take the first five *rows* from an array you can use the following notation:\n",
        "```\n",
        "data_first_five_rows = data[:5]\n",
        "```\n",
        "\n",
        "\n",
        "\n",
        "\n",
        "To complete this Question, do the following task:\n",
        "*    Divide both of the numpy arrays `features` and `prices` into two parts.\n",
        "*    Use, for example, the Numpy slice notation to achieve this.\n",
        "*    Make sure that the same house in never in both the test and training set at the same time! Other than that, you are free to choose which rows to the test set and which go to the training set."
      ]
    },
    {
      "cell_type": "code",
      "metadata": {
        "id": "f75qk7pww1K1",
        "colab_type": "code",
        "colab": {}
      },
      "source": [
        "# Make the two sets of features below\n",
        "features_train = features[:354]\n",
        "features_test = features[354:]\n",
        "\n",
        "# Make the two sets of prices below\n",
        "prices_train = prices[:354]\n",
        "prices_test = prices[354:]"
      ],
      "execution_count": 0,
      "outputs": []
    },
    {
      "cell_type": "markdown",
      "metadata": {
        "id": "c0d3lJE_zc-4",
        "colab_type": "text"
      },
      "source": [
        "## Exercise 1.3: Regression Fit"
      ]
    },
    {
      "cell_type": "markdown",
      "metadata": {
        "id": "Cad8uWOTzdB7",
        "colab_type": "text"
      },
      "source": [
        "In the linear least squares regression, we solve an equation that looks like this:\n",
        "\n",
        "$$ \\mathbf{y} = \\mathbf{X} \\mathbf{\\alpha}$$\n",
        "\n",
        "Where $\\mathbf{y}$ is a vector containing the target labels (for example housing prices), $\\mathbf{X}$ is a matrix where the each row contain features (in our case the features for a given house in Boston) for each house. Finally, $\\alpha is a vector containing the (unknown) regression coefficients.\n",
        "\n",
        "Fortunately, Numpy has built-in capabilites for solving linear least squares regression. This is done using the function which performs the \"least squares\" fit:\n",
        "\n",
        "```\n",
        "alpha, residual, rank, singular_values = np.linalg.lstsq(X, y)\n",
        "```\n",
        "\n",
        "As you can see, the function actually returns four items, the first one being the regression coefficients, and the next three are the residuals of the fit, the rank of the matrix problem, and finally the singular values of the matrix.\n",
        "\n",
        "For this exercise we only need to use the first one, but feel free to print and look at the three other items as well.\n",
        "\n",
        "You can see the documentation for `np.linalg.lstsq()` here: https://numpy.org/doc/stable/reference/generated/numpy.linalg.lstsq.html\n"
      ]
    },
    {
      "cell_type": "markdown",
      "metadata": {
        "id": "A2ORY5BZ2PPz",
        "colab_type": "text"
      },
      "source": [
        "### Question 1.3.1:\n",
        "\n",
        "*    Just like in the code above, use `np.linalg.lstsq()` to fit the alpha regression-coefficients. \n",
        "\n",
        "**Hint:** Use the `features_train` instead of `X` and `prices_train` instead of `y`.\n",
        "\n",
        "**Note:** *Google Colab uses a version of Numpy which might give you a warning abour \"rcond\", which is not a problem.*"
      ]
    },
    {
      "cell_type": "code",
      "metadata": {
        "id": "DSxMpIjz15kA",
        "colab_type": "code",
        "colab": {
          "base_uri": "https://localhost:8080/",
          "height": 147
        },
        "outputId": "8eb621cf-3139-48be-839b-d15290756c19"
      },
      "source": [
        "# Get the alpha coefficients \n",
        "alpha, residual, rank, singular_values = np.linalg.lstsq(features_train, prices_train)\n",
        "\n",
        "print(alpha)"
      ],
      "execution_count": 28,
      "outputs": [
        {
          "output_type": "stream",
          "text": [
            "[-0.07637644  0.04115234 -0.02369435  2.54631417  0.04041712  6.10926255\n",
            " -0.01919318 -0.87295404  0.11448186 -0.01157476 -0.35137899  0.00886255\n",
            " -0.35929319]\n"
          ],
          "name": "stdout"
        },
        {
          "output_type": "stream",
          "text": [
            "/usr/local/lib/python3.6/dist-packages/ipykernel_launcher.py:2: FutureWarning: `rcond` parameter will change to the default of machine precision times ``max(M, N)`` where M and N are the input matrix dimensions.\n",
            "To use the future default and silence this warning we advise to pass `rcond=None`, to keep using the old, explicitly pass `rcond=-1`.\n",
            "  \n"
          ],
          "name": "stderr"
        }
      ]
    },
    {
      "cell_type": "markdown",
      "metadata": {
        "id": "gJylexpu9dTD",
        "colab_type": "text"
      },
      "source": [
        "## Exercise 1.4: Making predictions"
      ]
    },
    {
      "cell_type": "markdown",
      "metadata": {
        "id": "gOLtQqUK9dee",
        "colab_type": "text"
      },
      "source": [
        "Now that you have obtained the alpha coefficients in the previous question, it is time to use them to make predictions.\n",
        "\n",
        "Remember how we are approximating the price as a linear sum of the weighted features for a given house:\n",
        "\n",
        "\\begin{equation}\n",
        "f(\\mathbf{x}) = x_1 \\alpha_1 + x_2 \\alpha_2 + \\dots + x_n \\alpha_n\n",
        "\\end{equation}\n",
        "or written in vector notation:\n",
        "\\begin{equation}\n",
        "f(\\mathbf{x}) = \\mathbf{x} \\cdot \\mathbf{\\alpha}\n",
        "\\end{equation}\n",
        "\n",
        "where $\\mathbf{x}$ is the vector containing all the features for the house and $\\mathbf{\\alpha}$ is the vector of regression coefficient you obtained by fitting the features to the prices of the training set."
      ]
    },
    {
      "cell_type": "markdown",
      "metadata": {
        "id": "7j9iFs8DEZcL",
        "colab_type": "text"
      },
      "source": [
        "### Question 1.4.1:\n",
        "\n",
        "With the alpha regression coefficients you found in the previous exercise, you can use your linear least squares \"machine\" to predict the price of house that are not in your training set.\n",
        "\n",
        "As in the equation above, this is done by taking the dot product between the feature vector for a given house and the regression coefficients.\n",
        "\n",
        "Remember, that the features for each house are stored in the rows of the \"features\" numpy arrays you created in Question 1.2.1.\n",
        "\n",
        "*    Calculate the price of all the houses in the test set. That is, take the dot product between the regression coefficients and every row-vector of the `features_test` array.\n"
      ]
    },
    {
      "cell_type": "code",
      "metadata": {
        "id": "HirrxfiqGEzI",
        "colab_type": "code",
        "colab": {
          "base_uri": "https://localhost:8080/",
          "height": 495
        },
        "outputId": "d715122c-5899-4ef8-b893-6a1fe46ecec4"
      },
      "source": [
        "# Calculate the prices of the houses in the test set\n",
        "#, i.e. the dot product between \"features_test\" and \"alpha\"\n",
        "prices_test_predicted = np.matmul(features_test, alpha)\n",
        "\n",
        "print(features_test_predicted)"
      ],
      "execution_count": 43,
      "outputs": [
        {
          "output_type": "stream",
          "text": [
            "[27.08891037 19.40768589 40.73604442 14.74809218 20.47140433 22.12963816\n",
            " 17.05747905 34.9702988  24.73185704 15.56529702 12.39884119 39.47063809\n",
            " 26.34010844 28.61534347 22.11361184  3.18403021 26.81028117 29.09876667\n",
            " 18.02380111 21.17361141 31.58247512 26.04626572 17.78535658 19.79125809\n",
            " 25.79350711 18.89456458 20.62019168 17.26913808 22.17780792 15.96777779\n",
            "  5.25537392 31.83600946 42.52094819 18.79530044 16.28459705 14.39752525\n",
            " 17.50229859  9.0630825  23.69766619 34.76964504 14.92175461 29.42299817\n",
            " 12.68160434 11.4095486  25.7283809  29.78209888 27.53029616 16.43034755\n",
            " 32.05528062 44.44065123 15.40174248  1.21258613 35.17710926 35.93682876\n",
            " 30.56069276 21.6886704  39.78606429 29.72725493 26.13632751 20.21009359\n",
            " 25.8010759  21.61063321 24.40576075 19.57518593 16.05095174 20.67048149\n",
            " 16.76494214 24.63346547 20.76028385 24.28298716 24.66337165 25.75692176\n",
            " 21.80124907 11.74836368 41.98719941 33.14918355 24.39680145  4.74327622\n",
            " 23.36998542 24.57347741 18.3432605  14.36578646 18.5252126  19.8870277\n",
            " 16.3526096  22.28521677 16.13198458 29.8903321  31.30195767 19.71691996\n",
            " 33.29908759 20.45076518 17.35093391 33.99351059 17.42632737 26.18499206\n",
            " 31.13949275 15.73894941 19.74703888 21.12887375 21.90239835 27.44500634\n",
            " 12.79628345 26.46402109 38.11585401 22.75966775 20.39941232 24.555675\n",
            " 18.4844471   8.61226014 31.6148623  29.58540095 18.2835844  23.97817612\n",
            " 25.6524885  25.41707772 13.87415922 24.39300916 29.18818841 27.79792975\n",
            " 23.25900244 25.36008706 16.60072053 29.060445   18.97941877 -1.63033123\n",
            " 27.78769895 27.72044381 34.21961564 24.84762105 20.09799795 17.55782539\n",
            " 33.15523117 15.25499585 21.50440107 22.50788458 18.98674393 19.43606724\n",
            " 16.70870136 25.44730446 12.73039663 27.88586237 21.97523425 31.48189927\n",
            " 23.32963543 18.15092789 25.61402465 19.69604668 26.75515522 19.15657774\n",
            " 28.17345794 22.77691171]\n"
          ],
          "name": "stdout"
        }
      ]
    },
    {
      "cell_type": "markdown",
      "metadata": {
        "id": "jZ5ZhTqQMab6",
        "colab_type": "text"
      },
      "source": [
        "*Hint:* Save the predicted prices for the test set in a list or numpy array, which you can use in question 1.4.2."
      ]
    },
    {
      "cell_type": "markdown",
      "metadata": {
        "id": "-Qa_7aIKFVeF",
        "colab_type": "text"
      },
      "source": [
        "### Question 1.4.2:\n",
        "Since we already know the true price of the houses in ou dataset, we can now compare the true prices of the house \n",
        "\n",
        "Use for example `plt.scatter()` as we did in the introductory lectures.\n",
        "\n",
        "*    Plot the correlation between the true prices stored in the `prices_test` and the predicted prices.\n",
        "\n",
        "Does it look like there is some correlation?"
      ]
    },
    {
      "cell_type": "code",
      "metadata": {
        "id": "QYU4QANnMurZ",
        "colab_type": "code",
        "colab": {
          "base_uri": "https://localhost:8080/",
          "height": 265
        },
        "outputId": "d87f7cc3-31a4-4a74-8fad-a65909a753bc"
      },
      "source": [
        "# Write the code to plot the correlation between \"prices_test\" and the prices  \n",
        "# you predicted in Question 1.4.1.\n",
        "\n",
        "plt.scatter(prices_test, prices_test_predicted)\n",
        "plt.show()"
      ],
      "execution_count": 42,
      "outputs": [
        {
          "output_type": "display_data",
          "data": {
            "image/png": "[encoded data removed]",
            "text/plain": [
              "<Figure size 432x288 with 1 Axes>"
            ]
          },
          "metadata": {
            "tags": [],
            "needs_background": "light"
          }
        }
      ]
    },
    {
      "cell_type": "markdown",
      "metadata": {
        "id": "NDJsRFCxN3rx",
        "colab_type": "text"
      },
      "source": [
        "### Question 1.4.3:\n",
        "\n",
        "One common measure of the prediction error is the \"root mean squared error\" (RMSE) between the true values and the predicted values. The RMSE is calculated as follows:\n",
        "\n",
        "\\begin{equation}\n",
        "\\mathrm{RMSE} = \\sqrt{\\frac{1}{N}\\sum_{i=0}^{N} \\left( y_i^\\mathrm{true} - y_i^\\mathrm{predicted}\\right)^2}\n",
        "\\end{equation}\n"
      ]
    },
    {
      "cell_type": "markdown",
      "metadata": {
        "id": "7Ni70RBhZKyg",
        "colab_type": "text"
      },
      "source": [
        "*    In this question, calculate the RMSE for your test set, i.e. the RMSE between the true prices and the prices you predicted in Question 1.4.1."
      ]
    },
    {
      "cell_type": "code",
      "metadata": {
        "id": "eYO9U5-pZajH",
        "colab_type": "code",
        "colab": {
          "base_uri": "https://localhost:8080/",
          "height": 35
        },
        "outputId": "3bb35eed-0b10-4107-f6ec-7442dc94518f"
      },
      "source": [
        "# Calculate the RMSE \n",
        "error = prices_test - prices_test_predicted\n",
        "rmse = np.sqrt(np.mean(error**2))\n",
        "\n",
        "print(\"RMSE [x $1,000] = \", rmse)"
      ],
      "execution_count": 41,
      "outputs": [
        {
          "output_type": "stream",
          "text": [
            "RMSE [x $1,000] =  5.662741307904864\n"
          ],
          "name": "stdout"
        }
      ]
    },
    {
      "cell_type": "markdown",
      "metadata": {
        "id": "Ml0aWTqdFOO4",
        "colab_type": "text"
      },
      "source": [
        "## Exercise 1.5: Linear Regression with Scikit-learn"
      ]
    },
    {
      "cell_type": "markdown",
      "metadata": {
        "id": "EeSKRpzUaxT9",
        "colab_type": "text"
      },
      "source": [
        "As we saw in the lecture, the Python library Scikit-learn has capabilities for almost any type of macine learning you can think of.\n",
        "\n",
        "It also does Linear Regression. Below is the a code example to use linear regression with sklearn.\n",
        "\n",
        "```\n",
        "# Import the machine\n",
        "from sklearn.linear_model import LinearRegression\n",
        "\n",
        "# Make a linear regression machine identically to our fitting in Numpy\n",
        "machine = LinearRegression(fit_intercept=False)\n",
        "\n",
        "# Fit the machine using the training features and training labels\n",
        "machine.fit(x_train, y_train)\n",
        "```\n",
        "\n",
        "After the machine has been fitted, you can use the built-in `predict()` method to make predictions on new feature maps:\n",
        "\n",
        "```\n",
        "# Predict y-values using x_test features\n",
        "y_test_predicted = machine.predict(x_test)\n",
        "```\n",
        "\n"
      ]
    },
    {
      "cell_type": "markdown",
      "metadata": {
        "id": "7yyahz3HhZVy",
        "colab_type": "text"
      },
      "source": [
        "### Question 1.5.1:\n",
        "\n",
        "*    In this question, use Scikit-learn to train a `LinearRegression` machine on the housing dataset. Use the same training and test data which you used in the previous example.\n",
        "\n",
        "**Hint:** You use the above code snippets to solve this question."
      ]
    },
    {
      "cell_type": "code",
      "metadata": {
        "id": "hE-cVxkIf9r1",
        "colab_type": "code",
        "colab": {
          "base_uri": "https://localhost:8080/",
          "height": 495
        },
        "outputId": "0d8f0a82-79e6-4715-b67a-d5995bc6d850"
      },
      "source": [
        "# Implement the linear regression with Scikit-learn\n",
        "\n",
        "from sklearn.linear_model import LinearRegression\n",
        " \n",
        "machine = LinearRegression(fit_intercept=False)\n",
        " \n",
        "machine.fit(features_train, prices_train)\n",
        "\n",
        "prices_test_sklearn = machine.predict(features_test)\n",
        "\n",
        "print(prices_test_sklearn)"
      ],
      "execution_count": 40,
      "outputs": [
        {
          "output_type": "stream",
          "text": [
            "[27.08891037 19.40768589 40.73604442 14.74809218 20.47140433 22.12963816\n",
            " 17.05747905 34.9702988  24.73185704 15.56529702 12.39884119 39.47063809\n",
            " 26.34010844 28.61534347 22.11361184  3.18403021 26.81028117 29.09876667\n",
            " 18.02380111 21.17361141 31.58247512 26.04626572 17.78535658 19.79125809\n",
            " 25.79350711 18.89456458 20.62019168 17.26913808 22.17780792 15.96777779\n",
            "  5.25537392 31.83600946 42.52094819 18.79530044 16.28459705 14.39752525\n",
            " 17.50229859  9.0630825  23.69766619 34.76964504 14.92175461 29.42299817\n",
            " 12.68160434 11.4095486  25.7283809  29.78209888 27.53029616 16.43034755\n",
            " 32.05528062 44.44065123 15.40174248  1.21258613 35.17710926 35.93682876\n",
            " 30.56069276 21.6886704  39.78606429 29.72725493 26.13632751 20.21009359\n",
            " 25.8010759  21.61063321 24.40576075 19.57518593 16.05095174 20.67048149\n",
            " 16.76494214 24.63346547 20.76028385 24.28298716 24.66337165 25.75692176\n",
            " 21.80124907 11.74836368 41.98719941 33.14918355 24.39680145  4.74327622\n",
            " 23.36998542 24.57347741 18.3432605  14.36578646 18.5252126  19.8870277\n",
            " 16.3526096  22.28521677 16.13198458 29.8903321  31.30195767 19.71691996\n",
            " 33.29908759 20.45076518 17.35093391 33.99351059 17.42632737 26.18499206\n",
            " 31.13949275 15.73894941 19.74703888 21.12887375 21.90239835 27.44500634\n",
            " 12.79628345 26.46402109 38.11585401 22.75966775 20.39941232 24.555675\n",
            " 18.4844471   8.61226014 31.6148623  29.58540095 18.2835844  23.97817612\n",
            " 25.6524885  25.41707772 13.87415922 24.39300916 29.18818841 27.79792975\n",
            " 23.25900244 25.36008706 16.60072053 29.060445   18.97941877 -1.63033123\n",
            " 27.78769895 27.72044381 34.21961564 24.84762105 20.09799795 17.55782539\n",
            " 33.15523117 15.25499585 21.50440107 22.50788458 18.98674393 19.43606724\n",
            " 16.70870136 25.44730446 12.73039663 27.88586237 21.97523425 31.48189927\n",
            " 23.32963543 18.15092789 25.61402465 19.69604668 26.75515522 19.15657774\n",
            " 28.17345794 22.77691171]\n"
          ],
          "name": "stdout"
        }
      ]
    },
    {
      "cell_type": "markdown",
      "metadata": {
        "id": "tL9FTkdbiD4l",
        "colab_type": "text"
      },
      "source": [
        "### Question 1.5.2:\n",
        "\n",
        "*    In this question, make a scatter plot between the between housing prices you predicted with Scikit-learn and the true prices.\n",
        "*    Additionally, calculate the RMSE for prices you predicted with Scikit-learn.\n",
        "\n",
        "**Hint:** If everything went well, you should have gotten the exact same plot and RMSE as you found in Questions 1.4.2 and 1.4.3."
      ]
    },
    {
      "cell_type": "code",
      "metadata": {
        "id": "sX5YekdUPSXd",
        "colab_type": "code",
        "colab": {
          "base_uri": "https://localhost:8080/",
          "height": 265
        },
        "outputId": "f0087830-2488-43b5-994f-dd6edb8c8276"
      },
      "source": [
        "# Make a scatter plot for  the housing prices you predicted with \n",
        "# Scikit-learn and the true prices for the test set\n",
        "\n",
        "plt.scatter(prices_test, prices_test_sklearn)\n",
        "plt.show()"
      ],
      "execution_count": 38,
      "outputs": [
        {
          "output_type": "display_data",
          "data": {
            "image/png": "[encoded data removed]",
            "text/plain": [
              "<Figure size 432x288 with 1 Axes>"
            ]
          },
          "metadata": {
            "tags": [],
            "needs_background": "light"
          }
        }
      ]
    },
    {
      "cell_type": "code",
      "metadata": {
        "id": "2X662vC8iEAT",
        "colab_type": "code",
        "colab": {
          "base_uri": "https://localhost:8080/",
          "height": 35
        },
        "outputId": "7f38d2dd-efed-4547-9b86-dd5e11d9232a"
      },
      "source": [
        "# Calculate the RMSE for the housing prices you predicted with \n",
        "# Scikit-learn and the true prices for the test set\n",
        "\n",
        "# Calculate the RMSE \n",
        "error = prices_test - prices_test_sklearn\n",
        "rmse = np.sqrt(np.mean(error**2))\n",
        "\n",
        "print(\"RMSE [x $1,000] = \", rmse)"
      ],
      "execution_count": 39,
      "outputs": [
        {
          "output_type": "stream",
          "text": [
            "RMSE [x $1,000] =  5.662741307904864\n"
          ],
          "name": "stdout"
        }
      ]
    }
  ]
}